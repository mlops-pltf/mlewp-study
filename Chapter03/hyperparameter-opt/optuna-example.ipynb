{
 "cells": [
  {
   "cell_type": "code",
   "execution_count": 1,
   "metadata": {},
   "outputs": [],
   "source": [
    "# Optuna\n",
    "import optuna\n",
    "from optuna.samplers import TPESampler\n",
    "\n",
    "# sklearn\n",
    "from sklearn.linear_model import LogisticRegression\n",
    "from sklearn.model_selection import cross_val_score\n",
    "from sklearn import datasets\n",
    "\n",
    "from functools import partial # to solve scoping problem when supplying more params' to objective function\n"
   ]
  },
  {
   "cell_type": "code",
   "execution_count": 2,
   "metadata": {},
   "outputs": [],
   "source": [
    "def objective(trial, n_folds, X, y):\n",
    "    \"\"\"Objective function for tuning logistic regression hyperparameters\"\"\"\n",
    "    params = {\n",
    "        'warm_start': trial.suggest_categorical('warm_start', [True, False]),\n",
    "        'fit_intercept': trial.suggest_categorical('fit_intercept', [True, False]),\n",
    "        'tol': trial.suggest_uniform('tol', 0.00001, 0.0001),\n",
    "        'C': trial.suggest_uniform('C', 0.05, 2.5),\n",
    "        'solver': trial.suggest_categorical('solver', ['newton-cg', 'lbfgs', 'liblinear']),\n",
    "        'max_iter': trial.suggest_categorical('max_iter', range(10, 500))\n",
    "    }\n",
    "    # Perform n_fold cross validation with hyperparameters\n",
    "    clf = LogisticRegression(**params, random_state=42)\n",
    "    scores = cross_val_score(clf, X, y, cv=n_folds, scoring='f1_macro')\n",
    "    \n",
    "    print(scores)\n",
    "    # Extract the best score\n",
    "    max_score = max(scores)\n",
    "\n",
    "    # Loss must be minimized\n",
    "    loss = 1 - max_score\n",
    "    print(loss)\n",
    "    # Dictionary with information for evaluation\n",
    "    return loss"
   ]
  },
  {
   "cell_type": "code",
   "execution_count": 3,
   "metadata": {},
   "outputs": [],
   "source": [
    "n_folds = 5\n",
    "X, y = datasets.make_classification(\n",
    "    n_samples=100000\n",
    "    , n_features=20\n",
    "    , n_informative=2\n",
    "    , n_redundant=2\n",
    ")\n",
    "train_samples = 100  # Samples used for training the models\n",
    "\n",
    "X_train = X[:train_samples]\n",
    "X_test = X[train_samples:]\n",
    "y_train = y[:train_samples]\n",
    "y_test = y[train_samples:]"
   ]
  },
  {
   "cell_type": "code",
   "execution_count": 4,
   "metadata": {},
   "outputs": [
    {
     "name": "stderr",
     "output_type": "stream",
     "text": [
      "[I 2025-03-13 19:54:54,760] A new study created in memory with name: no-name-3af25dd2-abd2-4550-b117-187a860da136\n",
      "/var/folders/4d/k04sldcd5_qdvdq9jp38j7tm0000gn/T/ipykernel_22553/1523801057.py:6: FutureWarning: suggest_uniform has been deprecated in v3.0.0. This feature will be removed in v6.0.0. See https://github.com/optuna/optuna/releases/tag/v3.0.0. Use suggest_float instead.\n",
      "  'tol': trial.suggest_uniform('tol', 0.00001, 0.0001),\n",
      "/var/folders/4d/k04sldcd5_qdvdq9jp38j7tm0000gn/T/ipykernel_22553/1523801057.py:7: FutureWarning: suggest_uniform has been deprecated in v3.0.0. This feature will be removed in v6.0.0. See https://github.com/optuna/optuna/releases/tag/v3.0.0. Use suggest_float instead.\n",
      "  'C': trial.suggest_uniform('C', 0.05, 2.5),\n",
      "[I 2025-03-13 19:54:54,906] Trial 0 finished with value: 0.0 and parameters: {'warm_start': True, 'fit_intercept': True, 'tol': 4.66459471188749e-05, 'C': 1.003025124059598, 'solver': 'liblinear', 'max_iter': 104}. Best is trial 0 with value: 0.0.\n",
      "/var/folders/4d/k04sldcd5_qdvdq9jp38j7tm0000gn/T/ipykernel_22553/1523801057.py:6: FutureWarning: suggest_uniform has been deprecated in v3.0.0. This feature will be removed in v6.0.0. See https://github.com/optuna/optuna/releases/tag/v3.0.0. Use suggest_float instead.\n",
      "  'tol': trial.suggest_uniform('tol', 0.00001, 0.0001),\n",
      "/var/folders/4d/k04sldcd5_qdvdq9jp38j7tm0000gn/T/ipykernel_22553/1523801057.py:7: FutureWarning: suggest_uniform has been deprecated in v3.0.0. This feature will be removed in v6.0.0. See https://github.com/optuna/optuna/releases/tag/v3.0.0. Use suggest_float instead.\n",
      "  'C': trial.suggest_uniform('C', 0.05, 2.5),\n"
     ]
    },
    {
     "name": "stdout",
     "output_type": "stream",
     "text": [
      "[0.89583333 0.8989899  1.         0.94987469 0.84654731]\n",
      "0.0\n"
     ]
    },
    {
     "name": "stderr",
     "output_type": "stream",
     "text": [
      "[I 2025-03-13 19:54:55,157] Trial 1 finished with value: 0.0 and parameters: {'warm_start': True, 'fit_intercept': True, 'tol': 4.525064334198079e-05, 'C': 0.5606948965706235, 'solver': 'lbfgs', 'max_iter': 375}. Best is trial 0 with value: 0.0.\n"
     ]
    },
    {
     "name": "stdout",
     "output_type": "stream",
     "text": [
      "[0.89583333 0.8989899  1.         0.94987469 0.84654731]\n",
      "0.0\n"
     ]
    },
    {
     "name": "stderr",
     "output_type": "stream",
     "text": [
      "/var/folders/4d/k04sldcd5_qdvdq9jp38j7tm0000gn/T/ipykernel_22553/1523801057.py:6: FutureWarning: suggest_uniform has been deprecated in v3.0.0. This feature will be removed in v6.0.0. See https://github.com/optuna/optuna/releases/tag/v3.0.0. Use suggest_float instead.\n",
      "  'tol': trial.suggest_uniform('tol', 0.00001, 0.0001),\n",
      "/var/folders/4d/k04sldcd5_qdvdq9jp38j7tm0000gn/T/ipykernel_22553/1523801057.py:7: FutureWarning: suggest_uniform has been deprecated in v3.0.0. This feature will be removed in v6.0.0. See https://github.com/optuna/optuna/releases/tag/v3.0.0. Use suggest_float instead.\n",
      "  'C': trial.suggest_uniform('C', 0.05, 2.5),\n",
      "[I 2025-03-13 19:54:55,484] Trial 2 finished with value: 0.0 and parameters: {'warm_start': False, 'fit_intercept': False, 'tol': 9.084733754702602e-05, 'C': 1.3291899024847549, 'solver': 'newton-cg', 'max_iter': 141}. Best is trial 0 with value: 0.0.\n",
      "/var/folders/4d/k04sldcd5_qdvdq9jp38j7tm0000gn/T/ipykernel_22553/1523801057.py:6: FutureWarning: suggest_uniform has been deprecated in v3.0.0. This feature will be removed in v6.0.0. See https://github.com/optuna/optuna/releases/tag/v3.0.0. Use suggest_float instead.\n",
      "  'tol': trial.suggest_uniform('tol', 0.00001, 0.0001),\n",
      "/var/folders/4d/k04sldcd5_qdvdq9jp38j7tm0000gn/T/ipykernel_22553/1523801057.py:7: FutureWarning: suggest_uniform has been deprecated in v3.0.0. This feature will be removed in v6.0.0. See https://github.com/optuna/optuna/releases/tag/v3.0.0. Use suggest_float instead.\n",
      "  'C': trial.suggest_uniform('C', 0.05, 2.5),\n",
      "[I 2025-03-13 19:54:55,533] Trial 3 finished with value: 0.0 and parameters: {'warm_start': True, 'fit_intercept': False, 'tol': 7.1710135927607e-05, 'C': 1.754678579124772, 'solver': 'liblinear', 'max_iter': 366}. Best is trial 0 with value: 0.0.\n",
      "/var/folders/4d/k04sldcd5_qdvdq9jp38j7tm0000gn/T/ipykernel_22553/1523801057.py:6: FutureWarning: suggest_uniform has been deprecated in v3.0.0. This feature will be removed in v6.0.0. See https://github.com/optuna/optuna/releases/tag/v3.0.0. Use suggest_float instead.\n",
      "  'tol': trial.suggest_uniform('tol', 0.00001, 0.0001),\n",
      "/var/folders/4d/k04sldcd5_qdvdq9jp38j7tm0000gn/T/ipykernel_22553/1523801057.py:7: FutureWarning: suggest_uniform has been deprecated in v3.0.0. This feature will be removed in v6.0.0. See https://github.com/optuna/optuna/releases/tag/v3.0.0. Use suggest_float instead.\n",
      "  'C': trial.suggest_uniform('C', 0.05, 2.5),\n"
     ]
    },
    {
     "name": "stdout",
     "output_type": "stream",
     "text": [
      "[0.8989899  0.94987469 1.         0.94987469 0.8       ]\n",
      "0.0\n",
      "[0.9488491  0.84962406 1.         0.94987469 0.8       ]\n",
      "0.0\n"
     ]
    },
    {
     "name": "stderr",
     "output_type": "stream",
     "text": [
      "[I 2025-03-13 19:54:55,762] Trial 4 finished with value: 0.0 and parameters: {'warm_start': True, 'fit_intercept': True, 'tol': 9.308729083801297e-05, 'C': 0.08312290980447631, 'solver': 'lbfgs', 'max_iter': 327}. Best is trial 0 with value: 0.0.\n",
      "/var/folders/4d/k04sldcd5_qdvdq9jp38j7tm0000gn/T/ipykernel_22553/1523801057.py:6: FutureWarning: suggest_uniform has been deprecated in v3.0.0. This feature will be removed in v6.0.0. See https://github.com/optuna/optuna/releases/tag/v3.0.0. Use suggest_float instead.\n",
      "  'tol': trial.suggest_uniform('tol', 0.00001, 0.0001),\n",
      "/var/folders/4d/k04sldcd5_qdvdq9jp38j7tm0000gn/T/ipykernel_22553/1523801057.py:7: FutureWarning: suggest_uniform has been deprecated in v3.0.0. This feature will be removed in v6.0.0. See https://github.com/optuna/optuna/releases/tag/v3.0.0. Use suggest_float instead.\n",
      "  'C': trial.suggest_uniform('C', 0.05, 2.5),\n",
      "[I 2025-03-13 19:54:55,833] Trial 5 finished with value: 0.0 and parameters: {'warm_start': True, 'fit_intercept': True, 'tol': 9.073941044716088e-05, 'C': 0.34519820935295675, 'solver': 'liblinear', 'max_iter': 459}. Best is trial 0 with value: 0.0.\n",
      "/var/folders/4d/k04sldcd5_qdvdq9jp38j7tm0000gn/T/ipykernel_22553/1523801057.py:6: FutureWarning: suggest_uniform has been deprecated in v3.0.0. This feature will be removed in v6.0.0. See https://github.com/optuna/optuna/releases/tag/v3.0.0. Use suggest_float instead.\n",
      "  'tol': trial.suggest_uniform('tol', 0.00001, 0.0001),\n",
      "/var/folders/4d/k04sldcd5_qdvdq9jp38j7tm0000gn/T/ipykernel_22553/1523801057.py:7: FutureWarning: suggest_uniform has been deprecated in v3.0.0. This feature will be removed in v6.0.0. See https://github.com/optuna/optuna/releases/tag/v3.0.0. Use suggest_float instead.\n",
      "  'C': trial.suggest_uniform('C', 0.05, 2.5),\n",
      "[I 2025-03-13 19:54:55,944] Trial 6 finished with value: 0.0 and parameters: {'warm_start': False, 'fit_intercept': False, 'tol': 1.991441231874484e-05, 'C': 1.3022521259010722, 'solver': 'newton-cg', 'max_iter': 332}. Best is trial 0 with value: 0.0.\n"
     ]
    },
    {
     "name": "stdout",
     "output_type": "stream",
     "text": [
      "[0.94666667 1.         1.         0.94987469 0.7979798 ]\n",
      "0.0\n",
      "[0.89583333 0.94987469 1.         0.94987469 0.7979798 ]\n",
      "0.0\n",
      "[0.8989899  0.94987469 1.         0.94987469 0.8       ]\n",
      "0.0\n"
     ]
    },
    {
     "name": "stderr",
     "output_type": "stream",
     "text": [
      "/var/folders/4d/k04sldcd5_qdvdq9jp38j7tm0000gn/T/ipykernel_22553/1523801057.py:6: FutureWarning: suggest_uniform has been deprecated in v3.0.0. This feature will be removed in v6.0.0. See https://github.com/optuna/optuna/releases/tag/v3.0.0. Use suggest_float instead.\n",
      "  'tol': trial.suggest_uniform('tol', 0.00001, 0.0001),\n",
      "/var/folders/4d/k04sldcd5_qdvdq9jp38j7tm0000gn/T/ipykernel_22553/1523801057.py:7: FutureWarning: suggest_uniform has been deprecated in v3.0.0. This feature will be removed in v6.0.0. See https://github.com/optuna/optuna/releases/tag/v3.0.0. Use suggest_float instead.\n",
      "  'C': trial.suggest_uniform('C', 0.05, 2.5),\n",
      "[I 2025-03-13 19:54:56,010] Trial 7 finished with value: 0.0 and parameters: {'warm_start': False, 'fit_intercept': True, 'tol': 8.441191840843287e-05, 'C': 2.0763183714949505, 'solver': 'liblinear', 'max_iter': 81}. Best is trial 0 with value: 0.0.\n",
      "/var/folders/4d/k04sldcd5_qdvdq9jp38j7tm0000gn/T/ipykernel_22553/1523801057.py:6: FutureWarning: suggest_uniform has been deprecated in v3.0.0. This feature will be removed in v6.0.0. See https://github.com/optuna/optuna/releases/tag/v3.0.0. Use suggest_float instead.\n",
      "  'tol': trial.suggest_uniform('tol', 0.00001, 0.0001),\n",
      "/var/folders/4d/k04sldcd5_qdvdq9jp38j7tm0000gn/T/ipykernel_22553/1523801057.py:7: FutureWarning: suggest_uniform has been deprecated in v3.0.0. This feature will be removed in v6.0.0. See https://github.com/optuna/optuna/releases/tag/v3.0.0. Use suggest_float instead.\n",
      "  'C': trial.suggest_uniform('C', 0.05, 2.5),\n"
     ]
    },
    {
     "name": "stdout",
     "output_type": "stream",
     "text": [
      "[0.84       0.7979798  1.         0.94987469 0.79166667]\n",
      "0.0\n"
     ]
    },
    {
     "name": "stderr",
     "output_type": "stream",
     "text": [
      "[I 2025-03-13 19:54:56,361] Trial 8 finished with value: 0.0 and parameters: {'warm_start': True, 'fit_intercept': False, 'tol': 7.947348800555313e-05, 'C': 2.3415666259856005, 'solver': 'newton-cg', 'max_iter': 376}. Best is trial 0 with value: 0.0.\n"
     ]
    },
    {
     "name": "stdout",
     "output_type": "stream",
     "text": [
      "[0.9488491  0.84962406 1.         0.94987469 0.8       ]\n",
      "0.0\n"
     ]
    },
    {
     "name": "stderr",
     "output_type": "stream",
     "text": [
      "/var/folders/4d/k04sldcd5_qdvdq9jp38j7tm0000gn/T/ipykernel_22553/1523801057.py:6: FutureWarning: suggest_uniform has been deprecated in v3.0.0. This feature will be removed in v6.0.0. See https://github.com/optuna/optuna/releases/tag/v3.0.0. Use suggest_float instead.\n",
      "  'tol': trial.suggest_uniform('tol', 0.00001, 0.0001),\n",
      "/var/folders/4d/k04sldcd5_qdvdq9jp38j7tm0000gn/T/ipykernel_22553/1523801057.py:7: FutureWarning: suggest_uniform has been deprecated in v3.0.0. This feature will be removed in v6.0.0. See https://github.com/optuna/optuna/releases/tag/v3.0.0. Use suggest_float instead.\n",
      "  'C': trial.suggest_uniform('C', 0.05, 2.5),\n",
      "[I 2025-03-13 19:54:56,644] Trial 9 finished with value: 0.0 and parameters: {'warm_start': True, 'fit_intercept': True, 'tol': 5.4567949248142785e-05, 'C': 0.622559666259821, 'solver': 'lbfgs', 'max_iter': 426}. Best is trial 0 with value: 0.0.\n",
      "/var/folders/4d/k04sldcd5_qdvdq9jp38j7tm0000gn/T/ipykernel_22553/1523801057.py:6: FutureWarning: suggest_uniform has been deprecated in v3.0.0. This feature will be removed in v6.0.0. See https://github.com/optuna/optuna/releases/tag/v3.0.0. Use suggest_float instead.\n",
      "  'tol': trial.suggest_uniform('tol', 0.00001, 0.0001),\n",
      "/var/folders/4d/k04sldcd5_qdvdq9jp38j7tm0000gn/T/ipykernel_22553/1523801057.py:7: FutureWarning: suggest_uniform has been deprecated in v3.0.0. This feature will be removed in v6.0.0. See https://github.com/optuna/optuna/releases/tag/v3.0.0. Use suggest_float instead.\n",
      "  'C': trial.suggest_uniform('C', 0.05, 2.5),\n",
      "[I 2025-03-13 19:54:56,821] Trial 10 finished with value: 0.0 and parameters: {'warm_start': False, 'fit_intercept': True, 'tol': 2.949265830061441e-05, 'C': 0.9435878704773475, 'solver': 'liblinear', 'max_iter': 40}. Best is trial 0 with value: 0.0.\n"
     ]
    },
    {
     "name": "stdout",
     "output_type": "stream",
     "text": [
      "[0.89583333 0.8989899  1.         0.94987469 0.84654731]\n",
      "0.0\n",
      "[0.89583333 0.8989899  1.         0.94987469 0.84654731]\n",
      "0.0\n"
     ]
    },
    {
     "name": "stderr",
     "output_type": "stream",
     "text": [
      "/var/folders/4d/k04sldcd5_qdvdq9jp38j7tm0000gn/T/ipykernel_22553/1523801057.py:6: FutureWarning: suggest_uniform has been deprecated in v3.0.0. This feature will be removed in v6.0.0. See https://github.com/optuna/optuna/releases/tag/v3.0.0. Use suggest_float instead.\n",
      "  'tol': trial.suggest_uniform('tol', 0.00001, 0.0001),\n",
      "/var/folders/4d/k04sldcd5_qdvdq9jp38j7tm0000gn/T/ipykernel_22553/1523801057.py:7: FutureWarning: suggest_uniform has been deprecated in v3.0.0. This feature will be removed in v6.0.0. See https://github.com/optuna/optuna/releases/tag/v3.0.0. Use suggest_float instead.\n",
      "  'C': trial.suggest_uniform('C', 0.05, 2.5),\n",
      "[I 2025-03-13 19:54:56,979] Trial 11 finished with value: 0.0 and parameters: {'warm_start': True, 'fit_intercept': True, 'tol': 4.486273079301686e-05, 'C': 0.7906105057644177, 'solver': 'lbfgs', 'max_iter': 252}. Best is trial 0 with value: 0.0.\n",
      "/var/folders/4d/k04sldcd5_qdvdq9jp38j7tm0000gn/T/ipykernel_22553/1523801057.py:6: FutureWarning: suggest_uniform has been deprecated in v3.0.0. This feature will be removed in v6.0.0. See https://github.com/optuna/optuna/releases/tag/v3.0.0. Use suggest_float instead.\n",
      "  'tol': trial.suggest_uniform('tol', 0.00001, 0.0001),\n",
      "/var/folders/4d/k04sldcd5_qdvdq9jp38j7tm0000gn/T/ipykernel_22553/1523801057.py:7: FutureWarning: suggest_uniform has been deprecated in v3.0.0. This feature will be removed in v6.0.0. See https://github.com/optuna/optuna/releases/tag/v3.0.0. Use suggest_float instead.\n",
      "  'C': trial.suggest_uniform('C', 0.05, 2.5),\n"
     ]
    },
    {
     "name": "stdout",
     "output_type": "stream",
     "text": [
      "[0.89583333 0.8989899  1.         0.94987469 0.79166667]\n",
      "0.0\n"
     ]
    },
    {
     "name": "stderr",
     "output_type": "stream",
     "text": [
      "[I 2025-03-13 19:54:57,203] Trial 12 finished with value: 0.0 and parameters: {'warm_start': True, 'fit_intercept': True, 'tol': 4.1658996779066994e-05, 'C': 0.9585656357439727, 'solver': 'lbfgs', 'max_iter': 196}. Best is trial 0 with value: 0.0.\n",
      "/var/folders/4d/k04sldcd5_qdvdq9jp38j7tm0000gn/T/ipykernel_22553/1523801057.py:6: FutureWarning: suggest_uniform has been deprecated in v3.0.0. This feature will be removed in v6.0.0. See https://github.com/optuna/optuna/releases/tag/v3.0.0. Use suggest_float instead.\n",
      "  'tol': trial.suggest_uniform('tol', 0.00001, 0.0001),\n",
      "/var/folders/4d/k04sldcd5_qdvdq9jp38j7tm0000gn/T/ipykernel_22553/1523801057.py:7: FutureWarning: suggest_uniform has been deprecated in v3.0.0. This feature will be removed in v6.0.0. See https://github.com/optuna/optuna/releases/tag/v3.0.0. Use suggest_float instead.\n",
      "  'C': trial.suggest_uniform('C', 0.05, 2.5),\n",
      "[I 2025-03-13 19:54:57,318] Trial 13 finished with value: 0.0 and parameters: {'warm_start': True, 'fit_intercept': True, 'tol': 6.500733293005624e-05, 'C': 0.4912124088683838, 'solver': 'liblinear', 'max_iter': 187}. Best is trial 0 with value: 0.0.\n"
     ]
    },
    {
     "name": "stdout",
     "output_type": "stream",
     "text": [
      "[0.89583333 0.8989899  1.         0.94987469 0.79166667]\n",
      "0.0\n",
      "[0.89583333 0.94987469 1.         0.94987469 0.84654731]\n",
      "0.0\n"
     ]
    },
    {
     "name": "stderr",
     "output_type": "stream",
     "text": [
      "/var/folders/4d/k04sldcd5_qdvdq9jp38j7tm0000gn/T/ipykernel_22553/1523801057.py:6: FutureWarning: suggest_uniform has been deprecated in v3.0.0. This feature will be removed in v6.0.0. See https://github.com/optuna/optuna/releases/tag/v3.0.0. Use suggest_float instead.\n",
      "  'tol': trial.suggest_uniform('tol', 0.00001, 0.0001),\n",
      "/var/folders/4d/k04sldcd5_qdvdq9jp38j7tm0000gn/T/ipykernel_22553/1523801057.py:7: FutureWarning: suggest_uniform has been deprecated in v3.0.0. This feature will be removed in v6.0.0. See https://github.com/optuna/optuna/releases/tag/v3.0.0. Use suggest_float instead.\n",
      "  'C': trial.suggest_uniform('C', 0.05, 2.5),\n",
      "[I 2025-03-13 19:54:57,495] Trial 14 finished with value: 0.0 and parameters: {'warm_start': True, 'fit_intercept': True, 'tol': 3.725031451444965e-05, 'C': 1.538625944462841, 'solver': 'lbfgs', 'max_iter': 328}. Best is trial 0 with value: 0.0.\n",
      "/var/folders/4d/k04sldcd5_qdvdq9jp38j7tm0000gn/T/ipykernel_22553/1523801057.py:6: FutureWarning: suggest_uniform has been deprecated in v3.0.0. This feature will be removed in v6.0.0. See https://github.com/optuna/optuna/releases/tag/v3.0.0. Use suggest_float instead.\n",
      "  'tol': trial.suggest_uniform('tol', 0.00001, 0.0001),\n",
      "/var/folders/4d/k04sldcd5_qdvdq9jp38j7tm0000gn/T/ipykernel_22553/1523801057.py:7: FutureWarning: suggest_uniform has been deprecated in v3.0.0. This feature will be removed in v6.0.0. See https://github.com/optuna/optuna/releases/tag/v3.0.0. Use suggest_float instead.\n",
      "  'C': trial.suggest_uniform('C', 0.05, 2.5),\n",
      "[I 2025-03-13 19:54:57,617] Trial 15 finished with value: 0.0 and parameters: {'warm_start': True, 'fit_intercept': True, 'tol': 5.620973753603657e-05, 'C': 0.12472347599554146, 'solver': 'liblinear', 'max_iter': 285}. Best is trial 0 with value: 0.0.\n"
     ]
    },
    {
     "name": "stdout",
     "output_type": "stream",
     "text": [
      "[0.84       0.8989899  1.         0.94987469 0.79166667]\n",
      "0.0\n",
      "[0.8989899  1.         1.         0.94987469 0.7979798 ]\n",
      "0.0\n"
     ]
    }
   ],
   "source": [
    "study = optuna.create_study(direction='minimize', sampler=TPESampler())\n",
    "study.optimize(partial(objective, n_folds=n_folds, X=X_train, y=y_train), n_trials=16)"
   ]
  },
  {
   "cell_type": "code",
   "execution_count": 5,
   "metadata": {},
   "outputs": [
    {
     "data": {
      "text/plain": [
       "{'warm_start': True,\n",
       " 'fit_intercept': True,\n",
       " 'tol': 4.66459471188749e-05,\n",
       " 'C': 1.003025124059598,\n",
       " 'solver': 'liblinear',\n",
       " 'max_iter': 104}"
      ]
     },
     "execution_count": 5,
     "metadata": {},
     "output_type": "execute_result"
    }
   ],
   "source": [
    "study.best_trial.params"
   ]
  },
  {
   "cell_type": "code",
   "execution_count": 6,
   "metadata": {},
   "outputs": [
    {
     "data": {
      "text/plain": [
       "0.0"
      ]
     },
     "execution_count": 6,
     "metadata": {},
     "output_type": "execute_result"
    }
   ],
   "source": [
    "study.best_trial.value"
   ]
  },
  {
   "cell_type": "code",
   "execution_count": 7,
   "metadata": {},
   "outputs": [
    {
     "data": {
      "text/plain": [
       "functools.partial(<function objective at 0x10cd03c10>, n_folds=5, X=array([[-0.25388755, -1.25304827, -1.07555419, ..., -0.81642256,\n",
       "         0.46416563, -1.15243686],\n",
       "       [ 0.06563384,  0.48228312, -0.26940309, ..., -0.87828438,\n",
       "         0.74538275,  0.16559331],\n",
       "       [ 0.41639173,  0.28108862,  0.024021  , ...,  1.50450707,\n",
       "         1.66484642, -0.17158371],\n",
       "       ...,\n",
       "       [ 0.3759576 ,  0.3167967 , -0.27819028, ..., -0.82740624,\n",
       "        -1.37561509,  1.96053857],\n",
       "       [-0.08589434, -1.0544168 ,  2.50607541, ...,  1.2475324 ,\n",
       "        -0.22335576, -0.4515608 ],\n",
       "       [-1.64072961,  0.35048893,  0.2994321 , ..., -0.2248637 ,\n",
       "         1.73391173, -1.51337114]]), y=array([1, 1, 1, 1, 1, 1, 1, 0, 1, 0, 1, 0, 0, 1, 0, 0, 0, 0, 0, 1, 0, 1,\n",
       "       1, 0, 0, 0, 0, 1, 1, 1, 0, 1, 1, 0, 0, 1, 1, 0, 1, 0, 1, 1, 1, 0,\n",
       "       0, 1, 0, 0, 0, 0, 1, 0, 1, 1, 1, 0, 1, 1, 1, 1, 0, 0, 1, 1, 1, 1,\n",
       "       1, 1, 0, 0, 0, 1, 1, 0, 1, 1, 1, 1, 1, 1, 0, 0, 0, 0, 0, 1, 1, 1,\n",
       "       1, 1, 1, 0, 1, 0, 0, 0, 0, 0, 1, 1]))"
      ]
     },
     "execution_count": 7,
     "metadata": {},
     "output_type": "execute_result"
    }
   ],
   "source": [
    "partial(objective, n_folds=n_folds, X=X_train, y=y_train)"
   ]
  },
  {
   "cell_type": "code",
   "execution_count": 8,
   "metadata": {},
   "outputs": [],
   "source": [
    "params = {\n",
    "    'warm_start': True\n",
    "    , 'fit_intercept': True\n",
    "    , 'tol': 4.66459471188749e-05\n",
    "    , 'C': 1.003025124059598\n",
    "    , 'solver': 'liblinear'\n",
    "    , 'max_iter': 104\n",
    "}\n",
    "# Perform n_fold cross validation with hyperparameters\n",
    "clf = LogisticRegression(**params, random_state=42)\n",
    "scores = cross_val_score(clf, X, y, cv=n_folds, scoring='f1_macro')\n",
    "\n",
    "# Extract the best score\n",
    "max_score = max(scores)\n",
    "\n",
    "# Loss must be minimized\n",
    "loss = 1 - max_score"
   ]
  },
  {
   "cell_type": "code",
   "execution_count": 9,
   "metadata": {},
   "outputs": [
    {
     "name": "stdout",
     "output_type": "stream",
     "text": [
      "0.031900326659344946\n"
     ]
    }
   ],
   "source": [
    "print(loss)"
   ]
  }
 ],
 "metadata": {
  "kernelspec": {
   "display_name": "Python 3 (ipykernel)",
   "language": "python",
   "name": "python3"
  },
  "language_info": {
   "codemirror_mode": {
    "name": "ipython",
    "version": 3
   },
   "file_extension": ".py",
   "mimetype": "text/x-python",
   "name": "python",
   "nbconvert_exporter": "python",
   "pygments_lexer": "ipython3",
   "version": "3.9.21"
  }
 },
 "nbformat": 4,
 "nbformat_minor": 4
}
